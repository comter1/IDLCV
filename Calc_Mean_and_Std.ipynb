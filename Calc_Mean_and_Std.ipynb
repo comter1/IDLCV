{
 "cells": [
  {
   "cell_type": "code",
   "execution_count": 58,
   "id": "97d62418",
   "metadata": {},
   "outputs": [],
   "source": [
    "from data_loader import Hotdog_NotHotdog\n",
    "from torch.utils.data import DataLoader\n",
    "from torchvision import datasets, transforms\n",
    "from tqdm import tqdm\n",
    "\n",
    "# accumulate mean/std efficiently\n",
    "def calc_mean_and_std(loader):\n",
    "    mean = 0.\n",
    "    std = 0.\n",
    "    n_pix = 0\n",
    "    n_images = 0\n",
    "    for images, _ in tqdm(loader, desc=\"Calculating mean/std\"):\n",
    "        #images = images.to(\"mps\")\n",
    "        b, c, h, w = images.shape  # batch, channels, height, width\n",
    "        n_pixels = b * h * w\n",
    "\n",
    "        # sum over batch, keep channel dimension\n",
    "        mean += images.sum(dim=[0, 2, 3])\n",
    "        std  += (images ** 2).sum(dim=[0, 2, 3])\n",
    "        n_pix += n_pixels\n",
    "        n_images += b\n",
    "    # print(\"mean: {}, n_pix: {}, n_images: {}\".format(mean, n_pix, n_images))\n",
    "    mean /= n_pix\n",
    "    std = (std / n_pix - mean ** 2).sqrt()\n",
    "    return mean, std\n",
    "\n"
   ]
  },
  {
   "cell_type": "code",
   "execution_count": 54,
   "id": "ea285446",
   "metadata": {},
   "outputs": [],
   "source": [
    "# Step 1: basic transform, only ToTensor() (NO normalization, NO augmentation!)\n",
    "img_size = 224\n",
    "stat_tfms = transforms.Compose([\n",
    "    transforms.Resize(256, antialias=True),\n",
    "    transforms.CenterCrop(img_size),\n",
    "    transforms.ToTensor(),                 # values in [0,1]\n",
    "])\n",
    "# Step 2: load dataset (train split only)\n",
    "batch_size = 64\n",
    "data_path = \"../data/hotdog_nothotdog\""
   ]
  },
  {
   "cell_type": "code",
   "execution_count": 56,
   "id": "8f814bd4",
   "metadata": {},
   "outputs": [
    {
     "name": "stderr",
     "output_type": "stream",
     "text": [
      "Calculating mean/std:  16%|█▌        | 5/32 [00:02<00:08,  3.04it/s]"
     ]
    },
    {
     "name": "stdout",
     "output_type": "stream",
     "text": [
      "b,c,h,w: 64, 3, 224, 224\n"
     ]
    },
    {
     "name": "stderr",
     "output_type": "stream",
     "text": [
      "Calculating mean/std: 100%|██████████| 32/32 [00:23<00:00,  1.39it/s]"
     ]
    },
    {
     "name": "stdout",
     "output_type": "stream",
     "text": [
      "mean: tensor([55714384., 45562164., 35374720.]), n_pix: 102710272, n_images: 2047\n",
      "Training Dataset mean: [0.5424422025680542, 0.4435988962650299, 0.3444126844406128], std: [0.26526492834091187, 0.2597216069698334, 0.2690683901309967]\n"
     ]
    },
    {
     "name": "stderr",
     "output_type": "stream",
     "text": [
      "\n"
     ]
    }
   ],
   "source": [
    "trainset = Hotdog_NotHotdog(train=True, transform=stat_tfms, data_path=data_path)\n",
    "train_loader = DataLoader(trainset, batch_size=batch_size, shuffle=False, num_workers=4)\n",
    "\n",
    "train_mean, train_std = calc_mean_and_std(train_loader)\n",
    "# print(\"dataset length: {}\".format(len(trainset)))\n",
    "\n",
    "print(\"Training Dataset mean: {}, std: {}\".format(train_mean.tolist(), train_std.tolist()))"
   ]
  },
  {
   "cell_type": "code",
   "execution_count": 59,
   "id": "c6f2616f",
   "metadata": {},
   "outputs": [
    {
     "name": "stderr",
     "output_type": "stream",
     "text": [
      "Calculating mean/std: 100%|██████████| 30/30 [00:22<00:00,  1.32it/s]"
     ]
    },
    {
     "name": "stdout",
     "output_type": "stream",
     "text": [
      "Testing Dataset mean: [0.543861448764801, 0.4478202760219574, 0.3497999906539917], std: [0.263683021068573, 0.25815925002098083, 0.26918601989746094]\n"
     ]
    },
    {
     "name": "stderr",
     "output_type": "stream",
     "text": [
      "\n"
     ]
    }
   ],
   "source": [
    "testset = Hotdog_NotHotdog(train=False, transform=stat_tfms, data_path=data_path)\n",
    "test_loader = DataLoader(testset, batch_size=batch_size, shuffle=False, num_workers=4)\n",
    "\n",
    "test_mean, test_std = calc_mean_and_std(test_loader)\n",
    "\n",
    "print(\"Testing Dataset mean: {}, std: {}\".format(test_mean.tolist(), test_std.tolist()))"
   ]
  }
 ],
 "metadata": {
  "kernelspec": {
   "display_name": ".venv",
   "language": "python",
   "name": "python3"
  },
  "language_info": {
   "codemirror_mode": {
    "name": "ipython",
    "version": 3
   },
   "file_extension": ".py",
   "mimetype": "text/x-python",
   "name": "python",
   "nbconvert_exporter": "python",
   "pygments_lexer": "ipython3",
   "version": "3.11.13"
  }
 },
 "nbformat": 4,
 "nbformat_minor": 5
}
